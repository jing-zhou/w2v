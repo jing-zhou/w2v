{
  "nbformat": 4,
  "nbformat_minor": 0,
  "metadata": {
    "colab": {
      "name": "w2v.ipynb",
      "provenance": [],
      "authorship_tag": "ABX9TyNgaJfy5Y2N3FZXjTKHmtTf",
      "include_colab_link": true
    },
    "kernelspec": {
      "name": "python3",
      "display_name": "Python 3"
    }
  },
  "cells": [
    {
      "cell_type": "markdown",
      "metadata": {
        "id": "view-in-github",
        "colab_type": "text"
      },
      "source": [
        "<a href=\"https://colab.research.google.com/github/jing-zhou/w2v/blob/master/w2v.ipynb\" target=\"_parent\"><img src=\"https://colab.research.google.com/assets/colab-badge.svg\" alt=\"Open In Colab\"/></a>"
      ]
    },
    {
      "cell_type": "markdown",
      "metadata": {
        "id": "hFC5eO7Tx2Km"
      },
      "source": [
        "**1. Environment setup and library import**"
      ]
    },
    {
      "cell_type": "code",
      "metadata": {
        "id": "dDCkjdq0X763",
        "colab": {
          "base_uri": "https://localhost:8080/"
        },
        "outputId": "1ebfea4a-b5eb-405e-8a48-e41b63ca9881"
      },
      "source": [
        "import random                           # Generates random numbers\n",
        "import os                               # Create directories, list files\n",
        "from zipfile import ZipFile\n",
        "from shutil import copyfile             # Copy files from Source to Destination\n",
        "from time import time\n",
        "import cv2                              # To flip images in data augmentation\n",
        "import matplotlib.pyplot as plt         # To save the images\n",
        "import matplotlib.image as mpimg\n",
        "\n",
        "!pip install Cython"
      ],
      "execution_count": 13,
      "outputs": [
        {
          "output_type": "stream",
          "name": "stdout",
          "text": [
            "Requirement already satisfied: Cython in /usr/local/lib/python3.10/dist-packages (3.0.10)\n"
          ]
        }
      ]
    },
    {
      "cell_type": "markdown",
      "metadata": {
        "id": "SUS-FJcrrb56"
      },
      "source": []
    },
    {
      "cell_type": "markdown",
      "metadata": {
        "id": "NCfhpvFj9MVS"
      },
      "source": [
        "**2. Link Goggle Drive with Colab**\n",
        "\n",
        "Source : https://medium.com/deep-learning-turkey/google-colab-free-gpu-tutorial-e113627b9f5d"
      ]
    },
    {
      "cell_type": "code",
      "metadata": {
        "id": "T2tGThfv49-4",
        "colab": {
          "base_uri": "https://localhost:8080/"
        },
        "outputId": "209c8212-66c8-480d-8c6b-297dcb629d94"
      },
      "source": [
        "# Check is Link to Drive is OK\n",
        "google = !if [ -d 'GDrive/' ]; then echo \"1\" ; else echo \"0\"; fi\n",
        "if (google[0] == '0' ):\n",
        "  from google.colab import drive\n",
        "  drive.mount('/content/GDrive/')\n",
        "!if [ -d 'GDrive/' ]; then echo \"Connection to Google drive successful\" ; else echo \"Error to connect to Google drive\"; fi\n"
      ],
      "execution_count": 14,
      "outputs": [
        {
          "output_type": "stream",
          "name": "stdout",
          "text": [
            "Connection to Google drive successful\n"
          ]
        }
      ]
    },
    {
      "cell_type": "markdown",
      "metadata": {
        "id": "CGBs0YKYOQQA"
      },
      "source": [
        "**3. Train W2V with Gensim**"
      ]
    },
    {
      "cell_type": "code",
      "metadata": {
        "id": "Z4lau8kPO9Le",
        "colab": {
          "base_uri": "https://localhost:8080/"
        },
        "outputId": "85c1ae49-3fa4-4df1-c394-d1caafe754a5"
      },
      "source": [
        "from gensim.models.word2vec import PathLineSentences\n",
        "import multiprocessing\n",
        "import gensim.models\n",
        "\n",
        "class MyCorpus:\n",
        "  def __init__(self, corpus_path):\n",
        "    self.cor_path = corpus_path\n",
        "    self.cor_list = os.listdir(corpus_path)\n",
        "  \"\"\"An interator that yields sentences (lists of str).\"\"\"\n",
        "\n",
        "  def __iter__(self):\n",
        "    for name in self.cor_list:\n",
        "      # filter hide file\n",
        "      if name.startswith('.'):\n",
        "        continue\n",
        "\n",
        "      print(name)\n",
        "      for line in PathLineSentences(self.cor_path + '/' + name):\n",
        "        # print(line)\n",
        "        # assume there's one document per line, tokens separated by whitespace\n",
        "        yield line\n",
        "corpus_dir = \"GDrive/MyDrive/corpus/dev/\"\n",
        "sentences = MyCorpus(corpus_dir)\n",
        "model = gensim.models.Word2Vec(\n",
        "    sentences=sentences,\n",
        "    min_count=5,\n",
        "    vector_size=512,\n",
        "    compute_loss=True,\n",
        "    workers=multiprocessing.cpu_count())\n"
      ],
      "execution_count": 18,
      "outputs": [
        {
          "output_type": "stream",
          "name": "stdout",
          "text": [
            "seg_axaa_1600420905944\n",
            "seg_axaa_1600420905944\n",
            "seg_axaa_1600420905944\n",
            "seg_axaa_1600420905944\n",
            "seg_axaa_1600420905944\n",
            "seg_axaa_1600420905944\n"
          ]
        }
      ]
    },
    {
      "cell_type": "markdown",
      "metadata": {
        "id": "pgr54ERCRxxL"
      },
      "source": [
        "**4. display the W2V**"
      ]
    },
    {
      "cell_type": "code",
      "metadata": {
        "id": "wKgeRmZcR7TH",
        "outputId": "3e3b35d7-0975-42fa-db34-80f5d2964cae",
        "colab": {
          "base_uri": "https://localhost:8080/"
        }
      },
      "source": [
        "wv=model.wv\n",
        "for index, word in enumerate(wv.index_to_key):\n",
        "    if index == 10:\n",
        "        break\n",
        "    print(f\"word #{index}/{len(wv.index_to_key)} is {word}\")"
      ],
      "execution_count": 16,
      "outputs": [
        {
          "output_type": "stream",
          "name": "stdout",
          "text": [
            "word #0/41748 is 中国\n",
            "word #1/41748 is 政府\n",
            "word #2/41748 is 於\n",
            "word #3/41748 is 次\n",
            "word #4/41748 is 後\n",
            "word #5/41748 is 為\n",
            "word #6/41748 is 主要\n",
            "word #7/41748 is 個\n",
            "word #8/41748 is 使用\n",
            "word #9/41748 is 种\n"
          ]
        }
      ]
    },
    {
      "cell_type": "markdown",
      "metadata": {
        "id": "WpAF95gvTm-N"
      },
      "source": [
        "**5. Store the model file**"
      ]
    },
    {
      "cell_type": "code",
      "metadata": {
        "id": "AftqhQ6BTtub"
      },
      "source": [
        "\n",
        "models_dir = 'models'\n",
        "if not os.path.exists(models_dir):\n",
        "  os.mkdir(models_dir)\n",
        "\n",
        "model.save(models_dir + '/model_' + str(int(time()*1000)))\n"
      ],
      "execution_count": 17,
      "outputs": []
    },
    {
      "cell_type": "markdown",
      "metadata": {
        "id": "k7AOOqZ1F5P6"
      },
      "source": [
        "**7. Demo**"
      ]
    },
    {
      "cell_type": "code",
      "metadata": {
        "id": "kN6gM9PqGBVA",
        "outputId": "20e16f89-0b4a-4d60-915d-550655c2491f",
        "colab": {
          "base_uri": "https://localhost:8080/",
          "height": 176
        }
      },
      "source": [
        "print('%r\\t%r\\t%.2f' % (\"维蒂格豪森\", \"迪欣根\", model.similarity(\"维蒂格豪森\", \"迪欣根\")))\n",
        "\n",
        "print('%r\\t%r\\t%.2f' % (\"中華民國\", \"迪欣根\", model.similarity(\"中華民國\", \"迪欣根\")))"
      ],
      "execution_count": null,
      "outputs": [
        {
          "output_type": "error",
          "ename": "AttributeError",
          "evalue": "'Word2Vec' object has no attribute 'similarity'",
          "traceback": [
            "\u001b[0;31m---------------------------------------------------------------------------\u001b[0m",
            "\u001b[0;31mAttributeError\u001b[0m                            Traceback (most recent call last)",
            "\u001b[0;32m<ipython-input-11-3d7601bef153>\u001b[0m in \u001b[0;36m<cell line: 1>\u001b[0;34m()\u001b[0m\n\u001b[0;32m----> 1\u001b[0;31m \u001b[0mprint\u001b[0m\u001b[0;34m(\u001b[0m\u001b[0;34m'%r\\t%r\\t%.2f'\u001b[0m \u001b[0;34m%\u001b[0m \u001b[0;34m(\u001b[0m\u001b[0;34m\"维蒂格豪森\"\u001b[0m\u001b[0;34m,\u001b[0m \u001b[0;34m\"迪欣根\"\u001b[0m\u001b[0;34m,\u001b[0m \u001b[0mmodel\u001b[0m\u001b[0;34m.\u001b[0m\u001b[0msimilarity\u001b[0m\u001b[0;34m(\u001b[0m\u001b[0;34m\"维蒂格豪森\"\u001b[0m\u001b[0;34m,\u001b[0m \u001b[0;34m\"迪欣根\"\u001b[0m\u001b[0;34m)\u001b[0m\u001b[0;34m)\u001b[0m\u001b[0;34m)\u001b[0m\u001b[0;34m\u001b[0m\u001b[0;34m\u001b[0m\u001b[0m\n\u001b[0m\u001b[1;32m      2\u001b[0m \u001b[0;34m\u001b[0m\u001b[0m\n\u001b[1;32m      3\u001b[0m \u001b[0mprint\u001b[0m\u001b[0;34m(\u001b[0m\u001b[0;34m'%r\\t%r\\t%.2f'\u001b[0m \u001b[0;34m%\u001b[0m \u001b[0;34m(\u001b[0m\u001b[0;34m\"中華民國\"\u001b[0m\u001b[0;34m,\u001b[0m \u001b[0;34m\"迪欣根\"\u001b[0m\u001b[0;34m,\u001b[0m \u001b[0mmodel\u001b[0m\u001b[0;34m.\u001b[0m\u001b[0msimilarity\u001b[0m\u001b[0;34m(\u001b[0m\u001b[0;34m\"中華民國\"\u001b[0m\u001b[0;34m,\u001b[0m \u001b[0;34m\"迪欣根\"\u001b[0m\u001b[0;34m)\u001b[0m\u001b[0;34m)\u001b[0m\u001b[0;34m)\u001b[0m\u001b[0;34m\u001b[0m\u001b[0;34m\u001b[0m\u001b[0m\n",
            "\u001b[0;31mAttributeError\u001b[0m: 'Word2Vec' object has no attribute 'similarity'"
          ]
        }
      ]
    }
  ]
}