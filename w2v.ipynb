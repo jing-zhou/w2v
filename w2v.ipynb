{
  "nbformat": 4,
  "nbformat_minor": 0,
  "metadata": {
    "colab": {
      "name": "w2v.ipynb",
      "provenance": [],
      "collapsed_sections": [],
      "authorship_tag": "ABX9TyPDkKEnkGOSJVWSIBXO8ycX",
      "include_colab_link": true
    },
    "kernelspec": {
      "name": "python3",
      "display_name": "Python 3"
    }
  },
  "cells": [
    {
      "cell_type": "markdown",
      "metadata": {
        "id": "view-in-github",
        "colab_type": "text"
      },
      "source": [
        "<a href=\"https://colab.research.google.com/github/jing-zhou/w2v/blob/master/w2v.ipynb\" target=\"_parent\"><img src=\"https://colab.research.google.com/assets/colab-badge.svg\" alt=\"Open In Colab\"/></a>"
      ]
    },
    {
      "cell_type": "markdown",
      "metadata": {
        "id": "hFC5eO7Tx2Km",
        "colab_type": "text"
      },
      "source": [
        "**1. Environment setup and library import**"
      ]
    },
    {
      "cell_type": "code",
      "metadata": {
        "id": "dDCkjdq0X763",
        "colab_type": "code",
        "colab": {}
      },
      "source": [
        "import random                           # Generates random numbers\n",
        "import os                               # Create directories, list files\n",
        "from zipfile import ZipFile\n",
        "from shutil import copyfile             # Copy files from Source to Destination\n",
        "import cv2                              # To flip images in data augmentation\n",
        "import matplotlib.pyplot as plt         # To save the images\n",
        "import matplotlib.image as mpimg"
      ],
      "execution_count": 3,
      "outputs": []
    },
    {
      "cell_type": "markdown",
      "metadata": {
        "id": "NCfhpvFj9MVS",
        "colab_type": "text"
      },
      "source": [
        "**2. Link Goggle Drive with Colab**\n",
        "\n",
        "Source : https://medium.com/deep-learning-turkey/google-colab-free-gpu-tutorial-e113627b9f5d "
      ]
    },
    {
      "cell_type": "code",
      "metadata": {
        "id": "T2tGThfv49-4",
        "colab_type": "code",
        "colab": {}
      },
      "source": [
        "# Check is Link to Drive is OK\n",
        "google = !if [ -d 'GDrive/' ]; then echo \"1\" ; else echo \"0\"; fi\n",
        "if (google[0] is '0' ):\n",
        "  from google.colab import drive\n",
        "  drive.mount('/content/GDrive/')\n",
        "!if [ -d 'GDrive/' ]; then echo \"Connection to Google drive successful\" ; else echo \"Error to connect to Google drive\"; fi"
      ],
      "execution_count": null,
      "outputs": []
    },
    {
      "cell_type": "markdown",
      "metadata": {
        "id": "oLpItjGRIYZv",
        "colab_type": "text"
      },
      "source": [
        "**3. handler function for zip file**"
      ]
    },
    {
      "cell_type": "code",
      "metadata": {
        "id": "68t3Qhh4CEbe",
        "colab_type": "code",
        "colab": {}
      },
      "source": [
        "# function for handling zip file, zfile must be FQN\n",
        "def handleZip(corp, zfile, temp):\n",
        "  # Create a ZipFile Object and load sample.zip in it\n",
        "  with ZipFile(zfile, 'r') as zipObj:\n",
        "    # Extract all the contents of zip file in different directory\n",
        "    zipObj.extractall(temp)\n",
        "    # Get a list of all archived file names from the zip\n",
        "    listOfFileNames = zipObj.namelist()\n",
        "    # Iterate over the file names\n",
        "    for fileName in listOfFileNames:\n",
        "      if fileName.endswith('.zip'):\n",
        "        handleZip(corp, temp + '/' + fileName, temp)\n",
        "        continue\n",
        "\n",
        "      tfile = open(temp + '/' + fileName, 'r')\n",
        "      corp.write(tfile.read())\n",
        "      tfile.close()\n"
      ],
      "execution_count": 5,
      "outputs": []
    },
    {
      "cell_type": "markdown",
      "metadata": {
        "id": "IZrNN17w6w4-",
        "colab_type": "text"
      },
      "source": [
        "**4. Create root dataset directory, temp directory and corpus file**\n"
      ]
    },
    {
      "cell_type": "code",
      "metadata": {
        "id": "HHFdN6Nh6u8G",
        "colab_type": "code",
        "colab": {}
      },
      "source": [
        "dataset_dir = 'dataset'\n",
        "if not os.path.exists(dataset_dir):\n",
        "  os.mkdir(dataset_dir)\n",
        "\n",
        "corpus_dir = dataset_dir + '/corpus'\n",
        "if not os.path.exists(corpus_dir):\n",
        "  os.mkdir(corpus_dir)\n",
        "corpus_file = '/corpus.txt'\n",
        "# remove previous file instance\n",
        "if os.path.exists(corpus_dir + corpus_file):\n",
        "  os.remove(corpus_dir + corpus_file)\n",
        "\n",
        "corpus = open(corpus_dir + corpus_file, 'x')\n",
        "# corpus.write(\"Now the file has more content!\")\n",
        "# corpus.close()\n",
        "# !cat /content/dataset/corpus.txt\n",
        "\n",
        "temp_dir = 'temp'\n",
        "if not os.path.exists(temp_dir):\n",
        "  os.mkdir(temp_dir)\n",
        "\n",
        "gdrive = \"GDrive/My Drive/corpus/segmented/\"\n",
        "\n",
        "file_list = os.listdir (gdrive)\n",
        "# print(file_list)\n",
        "\n",
        "for fname in file_list:\n",
        "  if fname.endswith('.zip'):\n",
        "    handleZip(corpus, gdrive + fname, temp_dir)\n",
        "    continue\n",
        "\n",
        "  tmp = open(gdrive + fname, 'r')\n",
        "  corpus.write(tmp.read())\n",
        "  tmp.close()\n",
        "\n",
        "corpus.close()\n",
        "# !cat /content/dataset/corpus.txt\n"
      ],
      "execution_count": 58,
      "outputs": []
    },
    {
      "cell_type": "markdown",
      "metadata": {
        "id": "CGBs0YKYOQQA",
        "colab_type": "text"
      },
      "source": [
        "**5. W2V trained by Gensim**"
      ]
    },
    {
      "cell_type": "code",
      "metadata": {
        "id": "Z4lau8kPO9Le",
        "colab_type": "code",
        "colab": {}
      },
      "source": [
        "from gensim.models.word2vec import PathLineSentences\n",
        "import multiprocessing\n",
        "import gensim.models\n",
        "\n",
        "model = gensim.models.Word2Vec(\n",
        "    sentences=PathLineSentences(corpus_dir + corpus_file),\n",
        "    min_count=1,\n",
        "    size=300,\n",
        "    window=15,\n",
        "    workers=multiprocessing.cpu_count(),\n",
        "    compute_loss=True,\n",
        "    hs=0,\n",
        "    sg=1,\n",
        "    seed=42,\n",
        "    iter=5\n",
        "    )"
      ],
      "execution_count": null,
      "outputs": []
    },
    {
      "cell_type": "markdown",
      "metadata": {
        "id": "pgr54ERCRxxL",
        "colab_type": "text"
      },
      "source": [
        "**6. display the W2V**"
      ]
    },
    {
      "cell_type": "code",
      "metadata": {
        "id": "wKgeRmZcR7TH",
        "colab_type": "code",
        "colab": {}
      },
      "source": [
        "for i, word in enumerate(model.wv.vocab):\n",
        "  if i == 10:\n",
        "    break\n",
        "  print(word)\n",
        "  print(model.wv[word])"
      ],
      "execution_count": null,
      "outputs": []
    },
    {
      "cell_type": "markdown",
      "metadata": {
        "id": "WpAF95gvTm-N",
        "colab_type": "text"
      },
      "source": [
        "**7. Store the model file**"
      ]
    },
    {
      "cell_type": "code",
      "metadata": {
        "id": "AftqhQ6BTtub",
        "colab_type": "code",
        "colab": {}
      },
      "source": [
        "models_dir = dataset_dir + '/models'\n",
        "if not os.path.exists(models_dir):\n",
        "  os.mkdir(models_dir)\n",
        "model_file = '/model.txt'\n",
        "# remove previous file instance\n",
        "if os.path.exists(models_dir + model_file):\n",
        "  os.remove(models_dir + model_file)\n",
        "\n",
        "model.save(models_dir + model_file)"
      ],
      "execution_count": null,
      "outputs": []
    },
    {
      "cell_type": "markdown",
      "metadata": {
        "id": "k7AOOqZ1F5P6",
        "colab_type": "text"
      },
      "source": [
        "**8. Demo**"
      ]
    },
    {
      "cell_type": "code",
      "metadata": {
        "id": "kN6gM9PqGBVA",
        "colab_type": "code",
        "colab": {}
      },
      "source": [
        "print('%r\\t%r\\t%.2f' % (\"维蒂格豪森\", \"迪欣根\", model.similarity(\"维蒂格豪森\", \"迪欣根\")))"
      ],
      "execution_count": null,
      "outputs": []
    }
  ]
}