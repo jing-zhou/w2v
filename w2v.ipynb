{
  "nbformat": 4,
  "nbformat_minor": 0,
  "metadata": {
    "colab": {
      "name": "w2v.ipynb",
      "provenance": [],
      "collapsed_sections": [],
      "authorship_tag": "ABX9TyO6qDdQGjG5uNUjgZjKxgLW",
      "include_colab_link": true
    },
    "kernelspec": {
      "name": "python3",
      "display_name": "Python 3"
    }
  },
  "cells": [
    {
      "cell_type": "markdown",
      "metadata": {
        "id": "view-in-github",
        "colab_type": "text"
      },
      "source": [
        "<a href=\"https://colab.research.google.com/github/jing-zhou/w2v/blob/master/w2v.ipynb\" target=\"_parent\"><img src=\"https://colab.research.google.com/assets/colab-badge.svg\" alt=\"Open In Colab\"/></a>"
      ]
    },
    {
      "cell_type": "markdown",
      "metadata": {
        "id": "hFC5eO7Tx2Km",
        "colab_type": "text"
      },
      "source": [
        "**1. Environment setup and library import**"
      ]
    },
    {
      "cell_type": "code",
      "metadata": {
        "id": "dDCkjdq0X763",
        "colab_type": "code",
        "colab": {}
      },
      "source": [
        "import random                           # Generates random numbers\n",
        "import os                               # Create directories, list files\n",
        "from zipfile import ZipFile\n",
        "from shutil import copyfile             # Copy files from Source to Destination\n",
        "import cv2                              # To flip images in data augmentation\n",
        "import matplotlib.pyplot as plt         # To save the images\n",
        "import matplotlib.image as mpimg"
      ],
      "execution_count": 6,
      "outputs": []
    },
    {
      "cell_type": "markdown",
      "metadata": {
        "id": "NCfhpvFj9MVS",
        "colab_type": "text"
      },
      "source": [
        "**2. Link Goggle Drive with Colab**\n",
        "\n",
        "Run the code and follow the link to get an authentification key, copy it and paste in the box that will appear in jupyter notebook. After fist key the script will ask for a second authentification key, follow the process as above.\n",
        "\n",
        "Source : https://medium.com/deep-learning-turkey/google-colab-free-gpu-tutorial-e113627b9f5d "
      ]
    },
    {
      "cell_type": "code",
      "metadata": {
        "id": "T2tGThfv49-4",
        "colab_type": "code",
        "colab": {
          "base_uri": "https://localhost:8080/",
          "height": 34
        },
        "outputId": "27b90f1f-2cc6-43bc-a559-42390c272361"
      },
      "source": [
        "# Check is Link to Drive is OK\n",
        "google = !if [ -d 'GDrive/' ]; then echo \"1\" ; else echo \"0\"; fi\n",
        "if (google[0] is '0' ):\n",
        "  from google.colab import drive\n",
        "  drive.mount('/content/GDrive/')\n",
        "!if [ -d 'GDrive/' ]; then echo \"Connection to Google drive successful\" ; else echo \"Error to connect to Google drive\"; fi"
      ],
      "execution_count": 7,
      "outputs": [
        {
          "output_type": "stream",
          "text": [
            "Connection to Google drive successful\n"
          ],
          "name": "stdout"
        }
      ]
    },
    {
      "cell_type": "markdown",
      "metadata": {
        "id": "oLpItjGRIYZv",
        "colab_type": "text"
      },
      "source": [
        "**3. handler function for zip file**"
      ]
    },
    {
      "cell_type": "code",
      "metadata": {
        "id": "68t3Qhh4CEbe",
        "colab_type": "code",
        "colab": {}
      },
      "source": [
        "# function for handling zip file\n",
        "def handleZip(corp, zfile, temp):\n",
        "  # Create a ZipFile Object and load sample.zip in it\n",
        "  with ZipFile(zfile, 'r') as zipObj:\n",
        "    # Extract all the contents of zip file in different directory\n",
        "    zipObj.extractall(temp)\n",
        "    # Get a list of all archived file names from the zip\n",
        "    listOfFileNames = zipObj.namelist()\n",
        "    # Iterate over the file names\n",
        "    for fileName in listOfFileNames:\n",
        "      if fileName.endswith('.zip'):\n",
        "        handleZip(corp, temp + '/' + fileName, temp)\n",
        "        continue\n",
        "\n",
        "      tfile = open(temp + '/' + fileName, 'r')\n",
        "      corp.write(tfile.read())\n",
        "      tfile.close()\n"
      ],
      "execution_count": 8,
      "outputs": []
    },
    {
      "cell_type": "markdown",
      "metadata": {
        "id": "IZrNN17w6w4-",
        "colab_type": "text"
      },
      "source": [
        "**4. Create root dataset directory, temp directory and corpus file**\n"
      ]
    },
    {
      "cell_type": "code",
      "metadata": {
        "id": "HHFdN6Nh6u8G",
        "colab_type": "code",
        "colab": {}
      },
      "source": [
        "dataset_dir = 'dataset'\n",
        "if not os.path.exists(dataset_dir):\n",
        "  os.mkdir(dataset_dir)\n",
        "  \n",
        "corpus_file = '/corpus.txt'\n",
        "# remove previous file instance\n",
        "if os.path.exists(dataset_dir + corpus_file):\n",
        "  os.remove(dataset_dir + corpus_file)\n",
        "\n",
        "corpus = open(dataset_dir + corpus_file, 'x')\n",
        "# corpus.write(\"Now the file has more content!\")\n",
        "# corpus.close()\n",
        "# !cat /content/dataset/corpus.txt\n",
        "\n",
        "temp_dir = 'temp'\n",
        "if not os.path.exists(temp_dir):\n",
        "  os.mkdir(temp_dir)\n",
        "\n",
        "gdrive = \"GDrive/My Drive/corpus/segmented/\"\n",
        "\n",
        "file_list = os.listdir (gdrive)\n",
        "# print(file_list)\n",
        "\n",
        "for fname in file_list:\n",
        "  if fname.endswith('.zip'):\n",
        "    handleZip(corpus, gdrive + fname, temp_dir)\n",
        "    continue\n",
        "\n",
        "  tmp = open(gdrive + fname, 'r')\n",
        "  corpus.write(tmp.read())\n",
        "  tmp.close()\n",
        "\n",
        "corpus.close()\n",
        "# !cat /content/dataset/corpus.txt\n"
      ],
      "execution_count": null,
      "outputs": []
    }
  ]
}