{
  "nbformat": 4,
  "nbformat_minor": 0,
  "metadata": {
    "colab": {
      "name": "w2v.ipynb",
      "provenance": [],
      "collapsed_sections": [],
      "authorship_tag": "ABX9TyMg4nTX/vfbDXHJ9STUUjVr",
      "include_colab_link": true
    },
    "kernelspec": {
      "name": "python3",
      "display_name": "Python 3"
    }
  },
  "cells": [
    {
      "cell_type": "markdown",
      "metadata": {
        "id": "view-in-github",
        "colab_type": "text"
      },
      "source": [
        "<a href=\"https://colab.research.google.com/github/jing-zhou/w2v/blob/master/w2v.ipynb\" target=\"_parent\"><img src=\"https://colab.research.google.com/assets/colab-badge.svg\" alt=\"Open In Colab\"/></a>"
      ]
    },
    {
      "cell_type": "markdown",
      "metadata": {
        "id": "hFC5eO7Tx2Km",
        "colab_type": "text"
      },
      "source": [
        "**1. Environment setup and library import**"
      ]
    },
    {
      "cell_type": "code",
      "metadata": {
        "id": "dDCkjdq0X763",
        "colab_type": "code",
        "colab": {
          "base_uri": "https://localhost:8080/",
          "height": 34
        },
        "outputId": "2b75634b-c76f-44f9-8d0e-ddcd94317ea7"
      },
      "source": [
        "import random                           # Generates random numbers\n",
        "import os                               # Create directories, list files\n",
        "from zipfile import ZipFile\n",
        "from shutil import copyfile             # Copy files from Source to Destination\n",
        "from time import time \n",
        "import cv2                              # To flip images in data augmentation\n",
        "import matplotlib.pyplot as plt         # To save the images\n",
        "import matplotlib.image as mpimg\n",
        "\n",
        "!pip install Cython"
      ],
      "execution_count": 15,
      "outputs": [
        {
          "output_type": "stream",
          "text": [
            "Requirement already satisfied: Cython in /usr/local/lib/python3.6/dist-packages (0.29.21)\n"
          ],
          "name": "stdout"
        }
      ]
    },
    {
      "cell_type": "markdown",
      "metadata": {
        "id": "SUS-FJcrrb56",
        "colab_type": "text"
      },
      "source": [
        ""
      ]
    },
    {
      "cell_type": "markdown",
      "metadata": {
        "id": "NCfhpvFj9MVS",
        "colab_type": "text"
      },
      "source": [
        "**2. Link Goggle Drive with Colab**\n",
        "\n",
        "Source : https://medium.com/deep-learning-turkey/google-colab-free-gpu-tutorial-e113627b9f5d "
      ]
    },
    {
      "cell_type": "code",
      "metadata": {
        "id": "T2tGThfv49-4",
        "colab_type": "code",
        "colab": {
          "base_uri": "https://localhost:8080/",
          "height": 34
        },
        "outputId": "e27c50ad-be21-40a2-c0ca-ad953d7bb33a"
      },
      "source": [
        "# Check is Link to Drive is OK\n",
        "google = !if [ -d 'GDrive/' ]; then echo \"1\" ; else echo \"0\"; fi\n",
        "if (google[0] is '0' ):\n",
        "  from google.colab import drive\n",
        "  drive.mount('/content/GDrive/')\n",
        "!if [ -d 'GDrive/' ]; then echo \"Connection to Google drive successful\" ; else echo \"Error to connect to Google drive\"; fi\n",
        "\n",
        "gdrive = \"GDrive/My Drive/corpus/segmented/\""
      ],
      "execution_count": 16,
      "outputs": [
        {
          "output_type": "stream",
          "text": [
            "Connection to Google drive successful\n"
          ],
          "name": "stdout"
        }
      ]
    },
    {
      "cell_type": "markdown",
      "metadata": {
        "id": "CGBs0YKYOQQA",
        "colab_type": "text"
      },
      "source": [
        "**3. Train W2V with Gensim**"
      ]
    },
    {
      "cell_type": "code",
      "metadata": {
        "id": "Z4lau8kPO9Le",
        "colab_type": "code",
        "colab": {}
      },
      "source": [
        "from gensim.models.word2vec import PathLineSentences\n",
        "import multiprocessing\n",
        "import gensim.models\n",
        "\n",
        "class MyCorpus:\n",
        "  def __init__(self, corpus_path):\n",
        "    self.cor_path = corpus_path\n",
        "    self.cor_list = os.listdir(corpus_path)\n",
        "  \"\"\"An interator that yields sentences (lists of str).\"\"\"\n",
        "\n",
        "  def __iter__(self):\n",
        "    for name in self.cor_list:\n",
        "      # filter hide file \n",
        "      if name.startswith('.'):\n",
        "        continue\n",
        "\n",
        "      print(name)\n",
        "      for line in PathLineSentences(self.cor_path + '/' + name):\n",
        "        # print(line)\n",
        "        # assume there's one document per line, tokens separated by whitespace\n",
        "        yield line\n",
        "\n",
        "sentences = MyCorpus(gdrive)\n",
        "model = gensim.models.Word2Vec(\n",
        "    sentences=sentences,\n",
        "    min_count=1,\n",
        "    size=256,\n",
        "    window=6,\n",
        "    workers=multiprocessing.cpu_count(),\n",
        "    compute_loss=True,\n",
        "    hs=0,\n",
        "    sg=1,\n",
        "    seed=42,\n",
        "    iter=3\n",
        "    )"
      ],
      "execution_count": null,
      "outputs": []
    },
    {
      "cell_type": "markdown",
      "metadata": {
        "id": "pgr54ERCRxxL",
        "colab_type": "text"
      },
      "source": [
        "**4. display the W2V**"
      ]
    },
    {
      "cell_type": "code",
      "metadata": {
        "id": "wKgeRmZcR7TH",
        "colab_type": "code",
        "colab": {}
      },
      "source": [
        "for i, word in enumerate(model.wv.vocab):\n",
        "  if i == 10:\n",
        "    break\n",
        "  print(word)\n",
        "  print(model.wv[word])"
      ],
      "execution_count": null,
      "outputs": []
    },
    {
      "cell_type": "markdown",
      "metadata": {
        "id": "WpAF95gvTm-N",
        "colab_type": "text"
      },
      "source": [
        "**5. Store the model file**"
      ]
    },
    {
      "cell_type": "code",
      "metadata": {
        "id": "AftqhQ6BTtub",
        "colab_type": "code",
        "colab": {}
      },
      "source": [
        "models_dir = 'models'\n",
        "if not os.path.exists(models_dir):\n",
        "  os.mkdir(models_dir)\n",
        "\n",
        "model.save(models_dir + '/model_' + str(int(time()*1000)))"
      ],
      "execution_count": null,
      "outputs": []
    },
    {
      "cell_type": "markdown",
      "metadata": {
        "id": "k7AOOqZ1F5P6",
        "colab_type": "text"
      },
      "source": [
        "**7. Demo**"
      ]
    },
    {
      "cell_type": "code",
      "metadata": {
        "id": "kN6gM9PqGBVA",
        "colab_type": "code",
        "colab": {}
      },
      "source": [
        "print('%r\\t%r\\t%.2f' % (\"维蒂格豪森\", \"迪欣根\", model.similarity(\"维蒂格豪森\", \"迪欣根\")))\n",
        "\n",
        "print('%r\\t%r\\t%.2f' % (\"中華民國\", \"迪欣根\", model.similarity(\"中華民國\", \"迪欣根\")))"
      ],
      "execution_count": null,
      "outputs": []
    }
  ]
}