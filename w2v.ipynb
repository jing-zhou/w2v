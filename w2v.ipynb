{
  "nbformat": 4,
  "nbformat_minor": 0,
  "metadata": {
    "colab": {
      "name": "w2v.ipynb",
      "provenance": [],
      "collapsed_sections": [],
      "authorship_tag": "ABX9TyMNZBpJjxkqgYGIInDdys2z",
      "include_colab_link": true
    },
    "kernelspec": {
      "name": "python3",
      "display_name": "Python 3"
    }
  },
  "cells": [
    {
      "cell_type": "markdown",
      "metadata": {
        "id": "view-in-github",
        "colab_type": "text"
      },
      "source": [
        "<a href=\"https://colab.research.google.com/github/jing-zhou/w2v/blob/master/w2v.ipynb\" target=\"_parent\"><img src=\"https://colab.research.google.com/assets/colab-badge.svg\" alt=\"Open In Colab\"/></a>"
      ]
    },
    {
      "cell_type": "markdown",
      "metadata": {
        "id": "hFC5eO7Tx2Km",
        "colab_type": "text"
      },
      "source": [
        "**1. Environment setup and library import**"
      ]
    },
    {
      "cell_type": "code",
      "metadata": {
        "id": "dDCkjdq0X763",
        "colab_type": "code",
        "colab": {}
      },
      "source": [
        "import random                           # Generates random numbers\n",
        "import os                               # Create directories, list files\n",
        "from shutil import copyfile             # Copy files from Source to Destination\n",
        "import cv2                              # To flip images in data augmentation\n",
        "import matplotlib.pyplot as plt         # To save the images\n",
        "import matplotlib.image as mpimg"
      ],
      "execution_count": 66,
      "outputs": []
    },
    {
      "cell_type": "markdown",
      "metadata": {
        "id": "NCfhpvFj9MVS",
        "colab_type": "text"
      },
      "source": [
        "**2. Link Goggle Drive with Colab**\n",
        "\n",
        "Run the code and follow the link to get an authentification key, copy it and paste in the box that will appear in jupyter notebook. After fist key the script will ask for a second authentification key, follow the process as above.\n",
        "\n",
        "Source : https://medium.com/deep-learning-turkey/google-colab-free-gpu-tutorial-e113627b9f5d "
      ]
    },
    {
      "cell_type": "code",
      "metadata": {
        "id": "T2tGThfv49-4",
        "colab_type": "code",
        "colab": {
          "base_uri": "https://localhost:8080/",
          "height": 34
        },
        "outputId": "10547c96-b1a7-4f70-fb81-5724e9eabd69"
      },
      "source": [
        "# Check is Link to Drive is OK\n",
        "google = !if [ -d 'GDrive/' ]; then echo \"1\" ; else echo \"0\"; fi\n",
        "if (google[0] is '0' ):\n",
        "  from google.colab import drive\n",
        "  drive.mount('/content/GDrive/')\n",
        "!if [ -d 'GDrive/' ]; then echo \"Connection to Google drive successful\" ; else echo \"Error to connect to Google drive\"; fi"
      ],
      "execution_count": 67,
      "outputs": [
        {
          "output_type": "stream",
          "text": [
            "Connection to Google drive successful\n"
          ],
          "name": "stdout"
        }
      ]
    },
    {
      "cell_type": "markdown",
      "metadata": {
        "id": "IZrNN17w6w4-",
        "colab_type": "text"
      },
      "source": [
        "**3. Create root dataset directory and corpus file**"
      ]
    },
    {
      "cell_type": "code",
      "metadata": {
        "id": "HHFdN6Nh6u8G",
        "colab_type": "code",
        "colab": {
          "base_uri": "https://localhost:8080/",
          "height": 1000
        },
        "outputId": "09164d39-c7a1-4a8c-b04e-0ead1af99df2"
      },
      "source": [
        "dataset_dir = 'dataset'\n",
        "if not os.path.exists(dataset_dir):\n",
        "  os.mkdir(dataset_dir)\n",
        "  \n",
        "corpus_file = '/corpus.txt'\n",
        "# remove previous file instance\n",
        "if os.path.exists(dataset_dir + corpus_file):\n",
        "  os.remove(dataset_dir + corpus_file)\n",
        "\n",
        "corpus = open(dataset_dir + corpus_file, 'x')\n",
        "# corpus.write(\"Now the file has more content!\")\n",
        "# corpus.close()\n",
        "# !cat /content/dataset/corpus.txt\n",
        "\n",
        "gdrive = \"GDrive/My Drive/corpus/segmented/\"\n",
        "\n",
        "file_list = os.listdir (gdrive)\n",
        "# print(file_list)\n",
        "\n",
        "for fname in file_list:\n",
        "  if fname.endswith('.zip'):\n",
        "    print(\"this is a zip!\")\n",
        "    continue\n",
        "\n",
        "  tmp = open(gdrive + fname, 'r')\n",
        "  corpus.write(tmp.read())\n",
        "  tmp.close()\n",
        "\n",
        "corpus.close()\n",
        "!cat /content/dataset/corpus.txt\n"
      ],
      "execution_count": 74,
      "outputs": [
        {
          "output_type": "stream",
          "text": [
            "this is a zip!\n",
            "this is a zip!\n",
            "this is a zip!\n",
            "this is a zip!\n",
            "this is a zip!\n",
            "this is a zip!\n",
            "this is a zip!\n",
            "this is a zip!\n",
            "this is a zip!\n",
            "this is a zip!\n",
            "this is a zip!\n",
            "this is a zip!\n",
            "this is a zip!\n",
            "this is a zip!\n",
            "this is a zip!\n",
            "this is a zip!\n",
            "this is a zip!\n",
            "this is a zip!\n",
            "this is a zip!\n",
            "this is a zip!\n",
            "this is a zip!\n",
            "this is a zip!\n",
            "this is a zip!\n",
            "this is a zip!\n",
            "this is a zip!\n",
            "this is a zip!\n",
            "this is a zip!\n",
            "this is a zip!\n",
            "this is a zip!\n",
            "this is a zip!\n",
            "this is a zip!\n",
            "this is a zip!\n",
            "this is a zip!\n",
            "this is a zip!\n",
            "this is a zip!\n",
            "this is a zip!\n",
            "this is a zip!\n",
            "this is a zip!\n",
            "this is a zip!\n",
            "this is a zip!\n",
            "this is a zip!\n",
            "this is a zip!\n",
            "this is a zip!\n",
            "this is a zip!\n",
            "this is a zip!\n",
            "this is a zip!\n",
            "this is a zip!\n",
            "this is a zip!\n",
            "this is a zip!\n",
            "this is a zip!\n",
            "this is a zip!\n",
            "this is a zip!\n",
            "this is a zip!\n",
            "this is a zip!\n",
            "this is a zip!\n",
            "this is a zip!\n",
            "this is a zip!\n",
            "this is a zip!\n",
            "this is a zip!\n",
            "this is a zip!\n",
            "this is a zip!\n",
            "this is a zip!\n",
            "this is a zip!\n",
            "this is a zip!\n",
            "this is a zip!\n",
            "this is a zip!\n",
            "this is a zip!\n",
            "this is a zip!\n",
            "this is a zip!\n",
            "this is a zip!\n",
            "this is a zip!\n",
            "this is a zip!\n",
            "this is a zip!\n",
            "this is a zip!\n",
            "this is a zip!\n",
            "this is a zip!\n",
            "db.externals.updateOne( filter, <update object or pipeline>, <optional params> ) - update the first matching document, optional parameters are: upsert, w, wtimeout, j, hint\n",
            "\n",
            "\n",
            "\n",
            "\n",
            "\n",
            "db.externals.updateOne( {\"user\" : \"67f293eda4e1c80e\"}, {$set:{\"cat\" : \"ip3c\"}} ) \n",
            "<!-- https://mvnrepository.com/artifact/io.reactivex.rxjava3/rxjava -->\n",
            "\t\t<dependency>\n",
            "\t\t\t<groupId>io.reactivex.rxjava3</groupId>\n",
            "\t\t\t<artifactId>rxjava</artifactId>\n",
            "\t\t\t<version>3.0.1</version>\n",
            "\t\t</dependency>\n",
            "\t\t\n",
            "\t\t\n",
            "\t\t<!-- https://mvnrepository.com/artifact/com.fasterxml.uuid/java-uuid-generator -->\n",
            "\t\t<dependency>\n",
            "\t\t\t<groupId>com.fasterxml.uuid</groupId>\n",
            "\t\t\t<artifactId>java-uuid-generator</artifactId>\n",
            "\t\t\t<version>3.2.0</version>\n",
            "\t\t</dependency>\n",
            "\t\t<!-- https://mvnrepository.com/artifact/com.fasterxml.jackson.core/jackson-databind -->\n",
            "\t\t<dependency>\n",
            "\t\t\t<groupId>com.fasterxml.jackson.core</groupId>\n",
            "\t\t\t<artifactId>jackson-databind</artifactId>\n",
            "\t\t</dependency>\n",
            "\t\t\n",
            "\t\t<dependency>\n",
            "\t\t\t<groupId>org.wso2.carbon.analytics</groupId>\n",
            "\t\t\t<artifactId>org.wso2.carbon.databridge.agent</artifactId>\n",
            "\t\t\t<version>2.0.79</version>\n",
            "\t\t</dependency>\n",
            "\t\t\n",
            "\t\t<!-- https://mvnrepository.com/artifact/org.wso2.carbon.analytics/org.wso2.carbon.databridge.agent -->\n",
            "\t\t<dependency>\n",
            "\t\t\t<groupId>org.wso2.carbon.analytics</groupId>\n",
            "\t\t\t<artifactId>org.wso2.carbon.databridge.agent</artifactId>\n",
            "\t\t\t<version>2.0.79</version>\n",
            "\t\t</dependency>\n",
            "\t\t\n",
            "\t\t\n",
            "\t\t\n",
            "\t\t<build>\n",
            "\t\t<plugins>\n",
            "\t\t\t<plugin>\n",
            "\t\t\t\t<groupId>org.springframework.boot</groupId>\n",
            "\t\t\t\t<artifactId>spring-boot-maven-plugin</artifactId>\n",
            "\t\t\t</plugin>\n",
            "\n",
            "\t\t</plugins>\n",
            "\t</build>\n"
          ],
          "name": "stdout"
        }
      ]
    }
  ]
}